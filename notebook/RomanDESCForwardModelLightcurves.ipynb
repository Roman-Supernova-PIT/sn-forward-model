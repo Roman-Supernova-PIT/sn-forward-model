{
 "cells": [
  {
   "cell_type": "markdown",
   "metadata": {},
   "source": [
    "# RomanDESC SN Simulation modeling with AstroPhot\n",
    "\n",
    "Author: Michael Wood-Vasey <wmwv@pitt.edu>  \n",
    "Last Verified to run: 2024-06-06\n",
    "\n",
    "Use the [AstroPhot](https://autostronomy.github.io/AstroPhot/) package to model lightcurve of SN in Roman+Rubin DESC simulations\n",
    "\n",
    "Notable Requirements:  \n",
    "astrophot  \n",
    "astropy  \n",
    "torch  \n",
    "\n",
    "Major TODO:\n",
    "  * [x] Use full Roman PSF including variation across focal plane.\n",
    "  * [ ] Start utility support Python file as developing package\n",
    "  * [ ] Write tests for package.  Decide on test data.\n",
    "  * [ ] Write logic into functions that can be more readily called from Python script\n",
    "  * [~] Implement SIP WCS in AstroPhot to deal with slight variation in object positions\n",
    "    - Instead implemented a per-image (but not per object) astrometric shift."
   ]
  },
  {
   "cell_type": "markdown",
   "metadata": {},
   "source": [
    "## Environment\n",
    "\n",
    "This Notebook was developed and tested within a conda environment.  You can create this environment with:\n",
    "\n",
    "```\n",
    "conda create --name astrophot -c conda-forge python astropy cudatoolkit h5py ipykernel jupyter matplotlib numpy pandas pyyaml pyarrow scipy requests tqdm webbpsf\n",
    "conda activate astrophot\n",
    "pip install astrophot pyro-ppl torch\n",
    "ipython kernel install --user --name=astrophot\n",
    "```\n",
    "\n",
    "And then download the `webbpsf` extra data files.\n",
    "\n",
    "This requires astrophot >= v0.15.2"
   ]
  },
  {
   "cell_type": "markdown",
   "metadata": {},
   "source": [
    "## Data\n",
    "\n",
    "Use the data from the Roman+Rubin DESC simulations."
   ]
  },
  {
   "cell_type": "code",
   "execution_count": null,
   "metadata": {},
   "outputs": [],
   "source": [
    "DATASET = \"RomanDESC\"\n",
    "DATADIR = \"../data/RomanDESC\""
   ]
  },
  {
   "cell_type": "code",
   "execution_count": null,
   "metadata": {},
   "outputs": [],
   "source": [
    "import os\n",
    "import re\n",
    "from typing import Optional\n",
    "\n",
    "import matplotlib.pyplot as plt\n",
    "import numpy as np\n",
    "\n",
    "import astropy.units as u\n",
    "from astropy.coordinates import SkyCoord\n",
    "from astropy.io import fits\n",
    "from astropy.table import Table\n",
    "from astropy.wcs import WCS\n",
    "\n",
    "import astrophot as ap\n",
    "import webbpsf\n"
   ]
  },
  {
   "cell_type": "markdown",
   "metadata": {},
   "source": [
    "### SN and Host position"
   ]
  },
  {
   "cell_type": "code",
   "execution_count": null,
   "metadata": {},
   "outputs": [],
   "source": [
    "image_file_format = (\n",
    "    \"images/{band}/{visit}/Roman_TDS_simple_model_{band}_{visit}_{sca}.fits.gz\"\n",
    ")\n",
    "truth_file_for_image_format = (\n",
    "    \"truth/{band}/{visit}/Roman_TDS_index_{band}_{visit}_{sca}.txt\"\n",
    ")"
   ]
  },
  {
   "cell_type": "markdown",
   "metadata": {},
   "source": [
    "Build our transient basic info catalog.\n",
    "\n",
    "Note:\n",
    "  * `mjd_start` is the earliest possible date we expect SN flux.  This would be computed based on some estimate of MJD_peak, redshift.\n",
    "  * Identifying pre-explosion flux could be done by assuming an earlier start date.  This would require sufficient images prior to this to provide a static reference.  The same issues arise in subtractions from templates -- the building of the template assumes that there is no flux in the images of the template."
   ]
  },
  {
   "cell_type": "code",
   "execution_count": null,
   "metadata": {},
   "outputs": [],
   "source": [
    "# 5 transient IDs of interest\n",
    "transient_info_table = Table(\n",
    "    rows=[\n",
    "        (\n",
    "            41024123441,\n",
    "            8.535177,\n",
    "            -43.041163,\n",
    "            60000,\n",
    "            70000,\n",
    "            \"Star.  Should be constant.\",\n",
    "        ),\n",
    "        (\n",
    "            30328322,\n",
    "            8.52941151,\n",
    "            -43.0266337,\n",
    "            62300,\n",
    "            62600,\n",
    "            \"Off-center transient, clear host, noticeable background.\",\n",
    "        ),\n",
    "        (\n",
    "            30005877,\n",
    "            8.54125970,\n",
    "            -43.0335549,\n",
    "            62300,\n",
    "            62600,\n",
    "            \"Faint blip\",\n",
    "        ),\n",
    "        (\n",
    "            30300185,\n",
    "            8.53301717,\n",
    "            -43.0415779,\n",
    "            62300,\n",
    "            62600,\n",
    "            \"Off-center transient; clear host galaxy.\",\n",
    "        ),\n",
    "        (\n",
    "            50006502,\n",
    "            8.52961340,\n",
    "            -43.0387536,\n",
    "            62000,\n",
    "            63000,\n",
    "            \"On-center transient; clear host galaxy.\",\n",
    "        ),\n",
    "        (\n",
    "            20202893,\n",
    "            8.037774,\n",
    "            -42.752337,\n",
    "            62236.0,\n",
    "            62707.0,\n",
    "            \"Example SNIa Lauren pointed to.\",\n",
    "        ),\n",
    "    ],\n",
    "    names=(\"transient_id\", \"ra\", \"dec\", \"mjd_start\", \"mjd_end\", \"comment\"),\n",
    "    dtype=(np.int64, np.float64, np.float64, np.float64, np.float64, str),\n",
    ")\n",
    "transient_info_table.add_index(\"transient_id\")\n",
    "\n",
    "transient_id_host = {\n",
    "    41024123441: {\n",
    "        \"object_id\": [10306000440854, 10306200209253, 10306000034593],\n",
    "        \"ra\": [8.536151, 8.535545, 8.533482],\n",
    "        \"dec\": [-43.040539, -43.040603, -43.041704],\n",
    "    },\n",
    "    30328322: {\n",
    "        \"object_id\": [10306000235162, 10306000235164],\n",
    "        \"ra\": [8.529866, 8.530374],\n",
    "        \"dec\": [-43.026571, -43.027145],\n",
    "    },\n",
    "    30005877: {\n",
    "        \"object_id\": [\n",
    "            10306100606638,\n",
    "            10306100606656,\n",
    "            10306100606654,\n",
    "            10306100606642,\n",
    "            10306100606642,\n",
    "        ],\n",
    "        \"ra\": [8.541223, 8.540226, 8.540089, 8.539467, 8.539475],\n",
    "        \"dec\": [-43.033540, -43.033224, -43.033119, -43.033947, -43.033951],\n",
    "    },\n",
    "    30300185: {\n",
    "        \"object_id\": [10306000034593],\n",
    "        \"ra\": [8.533481],  # , 8.532958, 8.535563],\n",
    "        \"dec\": [-43.041704],  # , -43.041007, -43.040616],\n",
    "    },\n",
    "    50006502: {\n",
    "        \"object_id\": [\n",
    "            10306100883696,\n",
    "            10306100883695,\n",
    "            10306100883689,\n",
    "            10306200189252,\n",
    "            10306100178387,\n",
    "        ],\n",
    "        \"ra\": [8.529611, 8.528555, 8.529122, 8.527552, 8.526931],\n",
    "        \"dec\": [-43.038753, -43.038634, -43.039769, -43.039076, -43.038742],\n",
    "    },\n",
    "    20202893: {\n",
    "        \"object_id\": [10306000122255, 10306000122247, 10306000459150],\n",
    "        \"ra\": [8.037702, 8.037730, 8.039738],\n",
    "        \"dec\": [-42.752296, -42.752924, -42.752543],\n",
    "    },\n",
    "}"
   ]
  },
  {
   "cell_type": "code",
   "execution_count": null,
   "metadata": {},
   "outputs": [],
   "source": [
    "# Persist the above in CSV files.\n",
    "WRITE_INFO_TABLES = False\n",
    "if WRITE_INFO_TABLES:\n",
    "    transient_info_table.write(\"transient_info_table.csv\", overwrite=True)\n",
    "\n",
    "    print(\"transient_id,object_id,ra,dec\")\n",
    "    for transient_id, info in transient_id_host.items():\n",
    "        for o, r, d in zip(info[\"object_id\"], info[\"ra\"], info[\"dec\"]):\n",
    "            print(f\"{transient_id},{o},{r},{d}\")"
   ]
  },
  {
   "cell_type": "code",
   "execution_count": null,
   "metadata": {},
   "outputs": [],
   "source": [
    "def get_visit_band_sca_for_object_id(object_id):\n",
    "    \"\"\"\n",
    "    Returns all of the image files that contain the location of the object.\n",
    "\n",
    "    Note:\n",
    "    For now this returns the results from a dict that was manually computed\n",
    "    \"\"\"\n",
    "    visit_band_sca = {\n",
    "        41024123441: {\n",
    "            \"visit\": [1394, 8340, 14088, 29499, 36445, 42193],\n",
    "            \"band\": [\"H158\", \"H158\", \"H158\", \"H158\", \"H158\", \"H158\"],\n",
    "            \"sca\": [9, 17, 8, 9, 17, 8],\n",
    "        },\n",
    "\n",
    "        30328322: {\n",
    "            \"visit\": [36445, 1394, 14088, 8340, 42193, 29499],\n",
    "            \"band\": [\"H158\", \"H158\", \"H158\", \"H158\", \"H158\", \"H158\"],\n",
    "            \"sca\": [17, 9, 8, 17, 8, 9],\n",
    "        },\n",
    "        30005877: {\n",
    "            \"visit\": [1394, 8340, 14088, 29499, 36445, 42193],\n",
    "            \"band\": [\"H158\", \"H158\", \"H158\", \"H158\", \"H158\", \"H158\"],\n",
    "            \"sca\": [9, 17, 8, 9, 17, 8],\n",
    "        },\n",
    "        30300185: {\n",
    "            \"visit\": [1394, 8340, 14088, 29499, 36445, 42193],\n",
    "            \"band\": [\"H158\", \"H158\", \"H158\", \"H158\", \"H158\", \"H158\"],\n",
    "            \"sca\": [9, 17, 8, 9, 17, 8],\n",
    "        },\n",
    "        50006502: {\n",
    "            \"visit\": [1394, 8340, 14088, 29499, 36445, 42193],\n",
    "            \"band\": [\"H158\", \"H158\", \"H158\", \"H158\", \"H158\", \"H158\"],\n",
    "            \"sca\": [9, 17, 8, 9, 17, 8],\n",
    "        },\n",
    "        # Falls in chip gap for 14088, 42193\n",
    "        20202893: {\n",
    "            \"visit\": [\n",
    "                1394,\n",
    "                8340,\n",
    "                11776,\n",
    "                19907,\n",
    "                25636,\n",
    "                29499,\n",
    "                36445,\n",
    "                39881,\n",
    "                48012,\n",
    "                53741,\n",
    "            ],\n",
    "            \"band\": [\n",
    "                \"H158\",\n",
    "                \"H158\",\n",
    "                \"H158\",\n",
    "                \"H158\",\n",
    "                \"H158\",\n",
    "                \"H158\",\n",
    "                \"H158\",\n",
    "                \"H158\",\n",
    "                \"H158\",\n",
    "                \"H158\",\n",
    "            ],\n",
    "            \"sca\": [12, 1, 5, 10, 2, 12, 1, 5, 10, 2],\n",
    "        },\n",
    "    }\n",
    "\n",
    "    # Could instead Raise exception once we have an exception framework\n",
    "    if object_id not in visit_band_sca.keys():\n",
    "        print(f\"Object ID: '{object_id}' unknown.\")\n",
    "        return None\n",
    "\n",
    "    return visit_band_sca[object_id]"
   ]
  },
  {
   "cell_type": "code",
   "execution_count": null,
   "metadata": {},
   "outputs": [],
   "source": [
    "# transient_id = 30328322\n",
    "# transient_id = 20202893\n",
    "# transient_id = 30005877\n",
    "# transient_id = 30300185\n",
    "# transient_id = 50006502\n",
    "\n",
    "# This is a star, it should be flat\n",
    "transient_id = 41024123441"
   ]
  },
  {
   "cell_type": "code",
   "execution_count": null,
   "metadata": {},
   "outputs": [],
   "source": [
    "transient_info = transient_info_table.loc[transient_id]\n",
    "transient_host = transient_id_host[transient_id]\n",
    "transient_coord = SkyCoord(transient_info[\"ra\"], transient_info[\"dec\"], unit=u.degree)\n",
    "\n",
    "image_info = get_visit_band_sca_for_object_id(transient_id)\n",
    "\n",
    "image_file_basenames = []\n",
    "truth_file_basenames = []\n",
    "for v, b, s in zip(image_info[\"visit\"], image_info[\"band\"], image_info[\"sca\"]):\n",
    "    image_file_basenames.append(image_file_format.format(visit=v, band=b, sca=s))\n",
    "    truth_file_basenames.append(truth_file_for_image_format.format(visit=v, band=b, sca=s)    )"
   ]
  },
  {
   "cell_type": "markdown",
   "metadata": {},
   "source": [
    "### Data files"
   ]
  },
  {
   "cell_type": "code",
   "execution_count": null,
   "metadata": {},
   "outputs": [],
   "source": [
    "image_files = [os.path.join(DATADIR, bn) for bn in image_file_basenames]\n",
    "truth_files = [os.path.join(DATADIR, bn) for bn in truth_file_basenames]"
   ]
  },
  {
   "cell_type": "code",
   "execution_count": null,
   "metadata": {},
   "outputs": [],
   "source": [
    "def get_truth_table(truth_files, visits, transient_id):\n",
    "    live_visits = []\n",
    "    realized_flux = []\n",
    "    flux = []\n",
    "    mag = []\n",
    "\n",
    "    for tf, v in zip(truth_files, visits):\n",
    "        this_truth_table = Table.read(tf, format=\"ascii\")\n",
    "        idx = this_truth_table[\"object_id\"] == transient_id\n",
    "        if sum(idx) == 0:\n",
    "            continue\n",
    "        transient_entry = this_truth_table[idx]\n",
    "        live_visits.append(v)\n",
    "        realized_flux.append(transient_entry[\"realized_flux\"][0])\n",
    "        flux.append(transient_entry[\"flux\"][0])\n",
    "        mag.append(transient_entry[\"mag\"][0])\n",
    "\n",
    "    truth_table = Table(\n",
    "        {\n",
    "            \"visit\": live_visits,\n",
    "            \"realized_flux\": realized_flux,\n",
    "            \"flux\": flux,\n",
    "            \"mag\": mag,\n",
    "        }\n",
    "    )\n",
    "\n",
    "    return truth_table"
   ]
  },
  {
   "cell_type": "code",
   "execution_count": null,
   "metadata": {
    "scrolled": false
   },
   "outputs": [],
   "source": [
    "lightcurve_truth = get_truth_table(truth_files, image_info[\"visit\"], transient_id)"
   ]
  },
  {
   "cell_type": "code",
   "execution_count": null,
   "metadata": {},
   "outputs": [],
   "source": [
    "print(lightcurve_truth)"
   ]
  },
  {
   "cell_type": "markdown",
   "metadata": {},
   "source": [
    "## Roman PSF\n",
    "\n",
    "The Roman Wide-Field Imager (WFI) PSF is available in detail through the `webbpsf` package for band, sca, x, y and SED.  For more information about Roman PSFs see:\n",
    "\n",
    "https://roman-docs.stsci.edu/simulation-tools-handbook-home/webbpsf-for-roman/webbpsf-tutorials\n",
    "https://github.com/spacetelescope/webbpsf/blob/develop/notebooks/WebbPSF-Roman_Tutorial.ipynb\n"
   ]
  },
  {
   "cell_type": "code",
   "execution_count": null,
   "metadata": {},
   "outputs": [],
   "source": [
    "def get_roman_psf(band, sca, x, y):\n",
    "    \"\"\"\n",
    "    Return the Roman WFI PSF for the given band, sca at the detector position x, y\n",
    "    \n",
    "    Does not pass an SED, so default of 5700K will be used by webbpsf.roman.\n",
    "    \"\"\"\n",
    "    # translate from colloquial R, Z, Y, H to standard \"F*\" filter names\n",
    "    standard_band_names = {\n",
    "        \"F062\": \"F062\",\n",
    "        \"F087\": \"F087\",\n",
    "        \"F106\": \"F106\",\n",
    "        \"F129\": \"F129\",\n",
    "        \"F146\": \"F146\",\n",
    "        \"F158\": \"F158\",\n",
    "        \"F184\": \"F184\",\n",
    "        \"R062\": \"F062\",\n",
    "        \"Z087\": \"F087\",\n",
    "        \"Y106\": \"F106\",\n",
    "        \"J129\": \"F129\",\n",
    "        \"H158\": \"F158\",\n",
    "    }\n",
    "    wfi = webbpsf.roman.WFI()\n",
    "    wfi.filter = standard_band_names[band]\n",
    "    wfi.detector = f\"SCA{sca:02d}\"\n",
    "    wfi.detector_position = (x, y)\n",
    "\n",
    "    psf_hdu = wfi.calc_psf()\n",
    "    psf = psf_hdu[\"DET_SAMP\"].data\n",
    "\n",
    "    return psf"
   ]
  },
  {
   "cell_type": "markdown",
   "metadata": {},
   "source": [
    "### Detector, Image, and FITS file order"
   ]
  },
  {
   "cell_type": "code",
   "execution_count": null,
   "metadata": {},
   "outputs": [],
   "source": [
    "# These are 4k x 4k images\n",
    "pixel_scale = {\"DC2\": 0.2, \"RomanDESC\": 0.11}  # \"/pixel\n",
    "fwhm = {\"DC2\": 0.6, \"RomanDESC\": 0.2}  # \"\n",
    "\n",
    "# The HDU order is different between the two datasets\n",
    "HDU_IDX = {\n",
    "    \"DC2\": {\"image\": 1, \"mask\": 2, \"variance\": 3, \"psfex_info\": 11, \"psfex_data\": 12},\n",
    "    \"RomanDESC\": {\"image\": 1, \"mask\": 3, \"variance\": 2},\n",
    "}\n",
    "# as are the FITS extension names\n",
    "HDU_NAMES = {\n",
    "    \"DC2\": {\"image\": \"image\", \"mask\": \"mask\", \"variance\": \"variance\"},\n",
    "    \"RomanDESC\": {\"image\": \"SCI\", \"mask\": \"DQ\", \"variance\": \"ERR\"},\n",
    "}\n",
    "# so we have to use a translation regardless.\n",
    "\n",
    "# But the variance plane for the Roman images isn't actually right\n",
    "# So we use the Image plane for the variance.\n",
    "HDU_IDX[\"RomanDESC\"][\"variance\"] = HDU_IDX[\"RomanDESC\"][\"image\"]\n",
    "HDU_NAMES[\"RomanDESC\"][\"variance\"] = HDU_NAMES[\"RomanDESC\"][\"image\"]"
   ]
  },
  {
   "cell_type": "code",
   "execution_count": null,
   "metadata": {},
   "outputs": [],
   "source": [
    "### Bad pixel mask values\n",
    "bad_pixel_bitmask = {}\n",
    "\n",
    "## Roman\n",
    "bad_pixel_bitmask[\"RomanDESC\"] = 0b1"
   ]
  },
  {
   "cell_type": "markdown",
   "metadata": {},
   "source": [
    "### Image metadata table\n",
    "\n",
    "If you have the information, create a image metadata table here called `image_metadata`.  It will be used below to add key information to the AstroPhot target header metadata and which will in turn be used to build the lightcurve table for the photometry.  The table should have rows in the same order as the `image_file_basenames` (and `image_files`) arrays.  It is expected to have \"mjd\" and \"band\"."
   ]
  },
  {
   "cell_type": "markdown",
   "metadata": {},
   "source": [
    "#### RomanSN\n",
    "For Roman SN simulation, \n",
    "For the SN truth values, "
   ]
  },
  {
   "cell_type": "code",
   "execution_count": null,
   "metadata": {},
   "outputs": [],
   "source": [
    "zp_AB_to_nJy = 8.90 + 2.5 * 9"
   ]
  },
  {
   "cell_type": "markdown",
   "metadata": {},
   "source": [
    "### General SN+host fitting\n",
    "\n",
    "The rest of this Notebook should work in general for any data set (`image_files`), SN coordinates (`sn`), host coordinates (`host`), and lightcurve seeded with a column for MJD (`lightcurve`) set up above."
   ]
  },
  {
   "cell_type": "code",
   "execution_count": null,
   "metadata": {},
   "outputs": [],
   "source": [
    "DEFAULT_ZP = 22.5  # Appropriate if the image was calibrated and scaled to nanomaggies\n",
    "DEFAULT_ZP = zp_AB_to_nJy\n",
    "\n",
    "def make_target(\n",
    "    image_filepath,\n",
    "    coord: Optional[SkyCoord] = None,\n",
    "    fwhm: float = fwhm[DATASET],\n",
    "    psf_size: int = 51,\n",
    "    pixel_scale: float = pixel_scale[DATASET],\n",
    "    zeropoint: Optional[float] = None,\n",
    "    hdu_idx: dict = HDU_IDX[DATASET],\n",
    "    bad_pixel_bitmask: Optional[int] = bad_pixel_bitmask[DATASET],\n",
    "    do_mask=False,\n",
    "):\n",
    "    \"\"\"Make an AstroPhot target.\n",
    "\n",
    "    image_filepath: str, Filepath to image file.\n",
    "        Image file assumed to have [image, mask, variance].\n",
    "        WCS assumed to be present in image HDU header\n",
    "\n",
    "    coord: SkyCoord object with center of window\n",
    "    fwhm: float, Full-Width at Half-Maximum in arcsec\n",
    "    psf_size: float, width of the PSF\n",
    "    pixel_scale: float, \"/pix\n",
    "       This is used along with fwhm, psf_size to set a Gaussian PSF model\n",
    "       Would be better to have an actual PSF model from the image\n",
    "    pixel_shape: (int, int), pix\n",
    "    zeropoint: float, calibration of counts in image.\n",
    "    \"\"\"\n",
    "    hdu = fits.open(image_filepath)\n",
    "    header = hdu[0].header  # Primary header\n",
    "    img = hdu[hdu_idx[\"image\"]].data  # Image HDU\n",
    "    var = hdu[hdu_idx[\"variance\"]].data  # Variance HDU\n",
    "\n",
    "    mjd = header[\"MJD-OBS\"]\n",
    "    band = header[\"FILTER\"]\n",
    "    sca = header[\"SCA_NUM\"]\n",
    "    \n",
    "    zp_band = {\"H158\": 32.603}\n",
    "    sigma_to_fwhm = 2.355\n",
    "\n",
    "    if do_mask:\n",
    "        # But need to translate the informative mask with a bad-pixel mask.\n",
    "        # E.g., for an LSST Science Pipelines mask, one of the mask values\n",
    "        # is that that pixel is part of a footprint of a valid object\n",
    "        # We don't want to mask those!\n",
    "        informative_mask = hdu[hdu_idx[\"mask\"]].data  # Mask\n",
    "        bad_pixel_mask = informative_mask & bad_pixel_bitmask\n",
    "\n",
    "    # LSST Science Pipelines processed data will store a zeropoint in MAGZERO\n",
    "    if zeropoint is None:\n",
    "        try:\n",
    "            zeropoint = zp_band[band] # + 2.5 * np.log10(header[\"EXPTIME\"])\n",
    "        except:\n",
    "            zeropoint = DEFAULT_ZP\n",
    "\n",
    "    wcs = WCS(hdu[hdu_idx[\"image\"]].header)\n",
    "    x, y = wcs.world_to_pixel(coord)\n",
    "\n",
    "    psf = get_roman_psf(band, sca, x, y)\n",
    "    \n",
    "    target_kwargs = {\n",
    "        \"data\": np.array(img, dtype=np.float64),\n",
    "        \"variance\": var,\n",
    "        \"zeropoint\": zeropoint,\n",
    "        \"psf\": psf,\n",
    "        \"wcs\": wcs,\n",
    "    }\n",
    "\n",
    "    if do_mask:\n",
    "        target_kwargs[\"mask\"] = bad_pixel_mask\n",
    "    if coord is not None:\n",
    "        target_kwargs[\"reference_radec\"] = (coord.ra.degree, coord.dec.degree)\n",
    "\n",
    "    target = ap.image.Target_Image(**target_kwargs)\n",
    "\n",
    "    target.header.filename = image_filepath\n",
    "    target.header.mjd = header[\"MJD-OBS\"]\n",
    "    target.header.band = header[\"FILTER\"]\n",
    "    # ZPTMAG is\n",
    "    #     full_image.header['ZPTMAG']   = 2.5*np.log10(self.exptime*roman.collecting_area)\n",
    "    # https://github.com/matroxel/roman_imsim/blob/864357c8d088164b9662007f2ebe50e23243368e/roman_imsim/sca.py#L133\n",
    "    # This needs to be added to truth file \"mag\" to get calibrated mag\n",
    "    target.header.sim_zptmag = header[\"ZPTMAG\"]\n",
    "    \n",
    "    hdu.close()\n",
    "\n",
    "    return target"
   ]
  },
  {
   "cell_type": "code",
   "execution_count": null,
   "metadata": {
    "scrolled": false
   },
   "outputs": [],
   "source": [
    "targets = ap.image.Target_Image_List(make_target(f, coord=transient_coord) for f in image_files)"
   ]
  },
  {
   "cell_type": "code",
   "execution_count": null,
   "metadata": {},
   "outputs": [],
   "source": [
    "for i, target in enumerate(targets):\n",
    "    target.header.visit = image_info[\"visit\"][i]"
   ]
  },
  {
   "cell_type": "markdown",
   "metadata": {},
   "source": [
    "Plot just the area of interest"
   ]
  },
  {
   "cell_type": "code",
   "execution_count": null,
   "metadata": {},
   "outputs": [],
   "source": [
    "npix = 75\n",
    "def make_window_for_target(target, ra, dec, npix=npix):\n",
    "    window = target.window.copy()\n",
    "    center_xy = window.world_to_pixel(ra, dec)\n",
    "\n",
    "    xmin = center_xy[0] - npix // 2\n",
    "    xmax = center_xy[0] + npix // 2\n",
    "    ymin = center_xy[1] - npix // 2\n",
    "    ymax = center_xy[1] + npix // 2\n",
    "\n",
    "    window.crop_to_pixel([[xmin, xmax], [ymin, ymax]])\n",
    "    return window\n",
    "\n",
    "def make_windows_for_targets(targets, ra, dec, npix=npix):\n",
    "    windows = [make_window_for_target(t, ra, dec, npix) for t in targets]\n",
    "    return windows"
   ]
  },
  {
   "cell_type": "code",
   "execution_count": null,
   "metadata": {},
   "outputs": [],
   "source": [
    "windows = make_windows_for_targets(targets, transient_info[\"ra\"], transient_info[\"dec\"])"
   ]
  },
  {
   "cell_type": "code",
   "execution_count": null,
   "metadata": {
    "scrolled": false
   },
   "outputs": [],
   "source": [
    "n = len(targets.image_list)\n",
    "side = int(np.sqrt(n)) + 1\n",
    "fig, ax = plt.subplots(side, side, figsize=(3 * side, 3 * side))\n",
    "\n",
    "for i in range(n):\n",
    "    ap.plots.target_image(fig, ax.ravel()[i], targets[i], window=windows[i], flipx=True)\n",
    "\n",
    "plt.show()\n",
    "plt.savefig(f\"transient_{DATASET}_{transient_id}_stamps.png\")"
   ]
  },
  {
   "cell_type": "markdown",
   "metadata": {},
   "source": [
    "The coordinate axes are in arcseconds, but in the local relative coordinate system for each image.  AstroPhot used the pixel scale to translate pixels -> arcsec."
   ]
  },
  {
   "cell_type": "markdown",
   "metadata": {},
   "source": [
    "Translate SN and host positions to projection plane positions for target.  By construction of our targets, this is in the same projection plane position."
   ]
  },
  {
   "cell_type": "code",
   "execution_count": null,
   "metadata": {},
   "outputs": [],
   "source": [
    "transient_xy = targets[0].world_to_plane(transient_info[\"ra\"], transient_info[\"dec\"])\n",
    "if len(transient_host[\"ra\"]) > 1:\n",
    "    host_xy = [targets[0].world_to_plane(r, d) for r, d in zip(transient_host[\"ra\"], transient_host[\"dec\"])]\n",
    "else:\n",
    "    host_xy = [targets[0].world_to_plane(transient_host[\"ra\"], transient_host[\"dec\"])]"
   ]
  },
  {
   "cell_type": "markdown",
   "metadata": {},
   "source": [
    "### Plotting Convenience Function"
   ]
  },
  {
   "cell_type": "code",
   "execution_count": null,
   "metadata": {},
   "outputs": [],
   "source": [
    "# We divide up because \"model_image\" expects a single axis object if single image\n",
    "# while it wants an array of axis objects if there are multiple images in the image list\n",
    "# model_image will not accept a one-element array if there is no image_list\n",
    "def plot_target_model(model, **kwargs):\n",
    "    if hasattr(model.target, \"image_list\"):\n",
    "        _plot_target_model_multiple(model, **kwargs)\n",
    "    else:\n",
    "        _plot_target_model_single(model, **kwargs)\n",
    "\n",
    "\n",
    "def _plot_target_model_multiple(\n",
    "    model,\n",
    "    window=None,\n",
    "    titles=None,\n",
    "    base_figsize=(12, 4),\n",
    "    figsize=None,\n",
    "    plot_filename=None,\n",
    "):\n",
    "    n = len(model.target.image_list)\n",
    "    if figsize is None:\n",
    "        figsize = (base_figsize[0], n * base_figsize[1])\n",
    "    fig, ax = plt.subplots(n, 3, figsize=figsize)\n",
    "    # Would like to just call this, but window isn't parsed as a list\n",
    "    # https://github.com/Autostronomy/AstroPhot/issues/142\n",
    "    #    ap.plots.target_image(fig, ax[:, 0], model.target, window=window, flipx=True)\n",
    "    for axt, mod, win in zip(ax[:, 0], model.target.image_list, window):\n",
    "        ap.plots.target_image(fig, axt, mod, win, flipx=True)\n",
    "\n",
    "    if titles is not None:\n",
    "        for i, title in enumerate(titles):\n",
    "            ax[i, 0].set_title(title)\n",
    "    ap.plots.model_image(fig, ax[:, 1], model, window=window, flipx=True)\n",
    "    ax[0, 1].set_title(\"Model\")\n",
    "    ap.plots.residual_image(fig, ax[:, 2], model, window=window, flipx=True)\n",
    "    ax[0, 2].set_title(\"Residual\")\n",
    "    plt.show()\n",
    "    if plot_filename is not None:\n",
    "        plt.savefig(plot_filename)\n",
    "\n",
    "\n",
    "def _plot_target_model_single(model, window=None, title=None, figsize=(16, 4)):\n",
    "    fig, ax = plt.subplots(1, 3, figsize=figsize)\n",
    "    ap.plots.target_image(fig, ax[0], model.target, window=window, flipx=True)\n",
    "    ax[0].set_title(title)\n",
    "    ap.plots.model_image(fig, ax[1], model, window=window, flipx=True)\n",
    "    ax[1].set_title(\"Model\")\n",
    "    ap.plots.residual_image(fig, ax[2], model, window=window, flipx=True)\n",
    "    ax[2].set_title(\"Residual\")\n",
    "    plt.show()"
   ]
  },
  {
   "cell_type": "markdown",
   "metadata": {},
   "source": [
    "### Jointly fit model across images"
   ]
  },
  {
   "cell_type": "code",
   "execution_count": null,
   "metadata": {},
   "outputs": [],
   "source": [
    "live_sn = [\n",
    "    (target.header.mjd > transient_info[\"mjd_start\"])\n",
    "    and (target.header.mjd < transient_info[\"mjd_end\"])\n",
    "    for target in targets\n",
    "]"
   ]
  },
  {
   "cell_type": "code",
   "execution_count": null,
   "metadata": {},
   "outputs": [],
   "source": [
    "model_sky = []\n",
    "model_static = []\n",
    "model_sn = []\n",
    "\n",
    "# The RomanDESC images are \"raw\" science images with sky.\n",
    "FIT_SKY = {\"RomanDESC\": True}\n",
    "FIT_HOST = True\n",
    "FIT_SN = True\n",
    "CORRECT_SIP = True\n",
    "\n",
    "if FIT_SKY[DATASET]:\n",
    "    for i, (target, window) in enumerate(zip(targets, windows)):\n",
    "        model_sky.append(\n",
    "            ap.models.AstroPhot_Model(\n",
    "                name=f\"sky model {i}\",\n",
    "                model_type=\"flat sky model\",\n",
    "                target=target,\n",
    "                window=window,\n",
    "            )\n",
    "        )\n",
    "    \n",
    "# We might have multiple hosts in the scene.\n",
    "# Potentially eventually multiple stars\n",
    "if FIT_HOST:\n",
    "    for i, hxy in enumerate(host_xy):        \n",
    "        model_static_band = {}\n",
    "        this_object_model = []\n",
    "        \n",
    "        for j, (b, target, window) in enumerate(zip(image_info[\"band\"], targets, windows)):\n",
    "            this_object_model.append(\n",
    "                ap.models.AstroPhot_Model(\n",
    "                    name=f\"galaxy model {i,j}\",\n",
    "                    model_type=\"sersic galaxy model\",\n",
    "                    target=target,\n",
    "                    psf_mode=\"full\",\n",
    "                    parameters={\"center\": hxy},\n",
    "                    window=window,\n",
    "                )\n",
    "            )\n",
    "            # I think this assignment copies reference that points to same underlying object\n",
    "            # in 'model_host' and 'model_host_band'\n",
    "            # The initialization step assumes that the reference model gets initialized first.\n",
    "            # So we just mark use the first model in the list of each band.\n",
    "            if b not in model_static_band.keys():\n",
    "                model_static_band[b] = j\n",
    "                \n",
    "        # Define static by locking all parameters to the first in the band.\n",
    "        for model in this_object_model:\n",
    "            if model.name == this_object_model[model_static_band[b]].name:\n",
    "                continue\n",
    "            for parameter in [\"q\", \"PA\", \"n\", \"Re\", \"Ie\"]:\n",
    "                model[parameter].value = this_object_model[model_static_band[b]][parameter]\n",
    "\n",
    "        model_static.append(this_object_model)\n",
    "        \n",
    "if FIT_SN:\n",
    "    for i, (ls, target, window) in enumerate(zip(live_sn, targets, windows)):\n",
    "        if not ls:\n",
    "            continue\n",
    "        model_sn.append(\n",
    "            ap.models.AstroPhot_Model(\n",
    "                name=f\"SN model {i}\",\n",
    "                model_type=\"point model\",\n",
    "                psf=target.psf,\n",
    "                target=target,\n",
    "                parameters={\"center\": transient_xy},\n",
    "                window=window,\n",
    "            )\n",
    "        )"
   ]
  },
  {
   "cell_type": "code",
   "execution_count": null,
   "metadata": {},
   "outputs": [],
   "source": [
    "# AstroPhot doesn't handle SIP WCS yet.\n",
    "# We'll roughly work around this by allowing a small shift in position\n",
    "# for all (both) objects on the image.\n",
    "CORRECT_SIP = True\n",
    "if CORRECT_SIP:\n",
    "    def calc_center(params):\n",
    "        return params[\"nominal_center\"].value + params[\"astrometric\"].value\n",
    "\n",
    "    if FIT_HOST and FIT_SN:\n",
    "        host_center = [ap.param.Parameter_Node(\n",
    "            name = \"nominal_center\",\n",
    "            value = hxy    \n",
    "        ) for hxy in host_xy]\n",
    "\n",
    "        sn_center = ap.param.Parameter_Node(\n",
    "            name = \"nominal_center\",\n",
    "            value = transient_xy\n",
    "        )\n",
    "            \n",
    "        live_sn_i = -1  # Accumulator to count live SN models\n",
    "        for i, ls in enumerate(live_sn):\n",
    "            # Require that we have the SN\n",
    "            # because we need both Host and SN to do a joint astrometric offset fit\n",
    "            if not ls:\n",
    "                continue\n",
    "            live_sn_i += 1\n",
    "            # The x, y delta is the same for both the SN and host\n",
    "            # but can be different for each image.\n",
    "            P_astrometric = ap.param.Parameter_Node(\n",
    "                name = \"astrometric\",\n",
    "                value = [0, 0],\n",
    "            )\n",
    "\n",
    "            for j in range(len(host_center)):\n",
    "                model_static[j][i][\"center\"].value = calc_center\n",
    "                model_static[j][i][\"center\"].link(host_center[j], P_astrometric)\n",
    "            \n",
    "            model_sn[live_sn_i][\"center\"].value = calc_center\n",
    "            model_sn[live_sn_i][\"center\"].link(sn_center, P_astrometric)\n",
    "else:\n",
    "    for b, model in zip(band, model_static):\n",
    "        if model.name == model_static[model_static_band[b]].name:\n",
    "            continue\n",
    "        for parameter in [\"center\"]:\n",
    "            model[parameter].value = model_static[model_static_band[b]][parameter]\n",
    "    for b, model in zip(band, model_sn):\n",
    "        if model.name == model_sn[model_static_band[b]].name:\n",
    "            continue\n",
    "        for parameter in [\"center\"]:\n",
    "            model[parameter].value = model_host[model_static_band[b]][parameter]"
   ]
  },
  {
   "cell_type": "markdown",
   "metadata": {},
   "source": [
    "Constrain host model to be the same per band"
   ]
  },
  {
   "cell_type": "code",
   "execution_count": null,
   "metadata": {},
   "outputs": [],
   "source": [
    "# Create a two-tier hierarchy of group models\n",
    "# following recommendation from Connor Stone.\n",
    "\n",
    "# Group model for each class: sky, host, sn\n",
    "all_model_list = []\n",
    "if len(model_sky) > 0:\n",
    "    sky_group_model = ap.models.AstroPhot_Model(\n",
    "        name=\"Sky\",\n",
    "        model_type=\"group model\",\n",
    "        models=[*model_sky],\n",
    "        target=targets,\n",
    "    )\n",
    "    all_model_list.extend(sky_group_model)\n",
    "\n",
    "for model_host in model_static:\n",
    "    if len(model_host) > 0:\n",
    "        host_group_model = ap.models.AstroPhot_Model(\n",
    "            name=\"Host\",\n",
    "            model_type=\"group model\",\n",
    "            models=[*model_host],\n",
    "            target=targets,\n",
    "        )\n",
    "        all_model_list.extend(host_group_model)\n",
    "\n",
    "if len(model_sn) > 0:\n",
    "    sn_group_model = ap.models.AstroPhot_Model(\n",
    "        name=\"SN\",\n",
    "        model_type=\"group model\",\n",
    "        models=[*model_sn],\n",
    "        target=targets,\n",
    "    )\n",
    "    all_model_list.extend(sn_group_model)\n",
    "\n",
    "# Group model holds all the classes\n",
    "model_host_sn = ap.models.AstroPhot_Model(\n",
    "    name=\"Host+SN\",\n",
    "    model_type=\"group model\",\n",
    "    models=all_model_list,\n",
    "    target=targets,\n",
    ")"
   ]
  },
  {
   "cell_type": "markdown",
   "metadata": {},
   "source": [
    "We have to initialize the model so that there is a value for `parameters[\"center\"]`"
   ]
  },
  {
   "cell_type": "code",
   "execution_count": null,
   "metadata": {
    "scrolled": false
   },
   "outputs": [],
   "source": [
    "model_host_sn.initialize()"
   ]
  },
  {
   "cell_type": "code",
   "execution_count": null,
   "metadata": {},
   "outputs": [],
   "source": [
    "print(model_host_sn.parameters)"
   ]
  },
  {
   "cell_type": "code",
   "execution_count": null,
   "metadata": {},
   "outputs": [],
   "source": [
    "result = ap.fit.LM(model_host_sn, verbose=True).fit()\n",
    "print(result.message)"
   ]
  },
  {
   "cell_type": "code",
   "execution_count": null,
   "metadata": {},
   "outputs": [],
   "source": [
    "result.update_uncertainty()"
   ]
  },
  {
   "cell_type": "markdown",
   "metadata": {},
   "source": [
    "The uncertainties for the center positions and astrometric uncertainties aren't calculated correctly right now.\n",
    "\n",
    "But the flux uncertainties are reasonable."
   ]
  },
  {
   "cell_type": "code",
   "execution_count": null,
   "metadata": {},
   "outputs": [],
   "source": [
    "print(result.model.parameters)"
   ]
  },
  {
   "cell_type": "code",
   "execution_count": null,
   "metadata": {
    "scrolled": false
   },
   "outputs": [],
   "source": [
    "model_filename = f\"Transient_{transient_id}_AstroPhot_model.yaml\"\n",
    "result.model.save(model_filename)"
   ]
  },
  {
   "cell_type": "code",
   "execution_count": null,
   "metadata": {},
   "outputs": [],
   "source": [
    "covar = result.covariance_matrix.detach().cpu().numpy()\n",
    "plt.imshow(\n",
    "    covar,\n",
    "    origin=\"lower\",\n",
    "    vmin=1e-8, vmax=1e-1, norm=\"log\",\n",
    ")\n",
    "plt.colorbar()"
   ]
  },
  {
   "cell_type": "markdown",
   "metadata": {},
   "source": [
    "Let's focus on the SN flux uncertainties:"
   ]
  },
  {
   "cell_type": "markdown",
   "metadata": {},
   "source": [
    "This is a little clunky because I don't have a better way of looking up the names of the parameters in the covariance matrix."
   ]
  },
  {
   "cell_type": "code",
   "execution_count": null,
   "metadata": {},
   "outputs": [],
   "source": [
    "sn_flux_starts_at_parameter_idx = -len(targets.image_list)\n",
    "covar = result.covariance_matrix.detach().cpu().numpy()\n",
    "plt.imshow(\n",
    "    covar[sn_flux_starts_at_parameter_idx:, sn_flux_starts_at_parameter_idx:],\n",
    "    origin=\"lower\",\n",
    "#    vmin=1e-6, vmax=1, norm=\"log\",\n",
    ")\n",
    "plt.colorbar()"
   ]
  },
  {
   "cell_type": "code",
   "execution_count": null,
   "metadata": {},
   "outputs": [],
   "source": [
    "sn_model_name_regex = re.compile(\"SN model [0-9]+\")\n",
    "sn_model_names = [k for k in model_host_sn.models.keys() if sn_model_name_regex.match(k)]"
   ]
  },
  {
   "cell_type": "code",
   "execution_count": null,
   "metadata": {},
   "outputs": [],
   "source": [
    "filenames = [model_host_sn.models[m].target.header.filename for m in sn_model_names]\n",
    "bands = [model_host_sn.models[m].target.header.band for m in sn_model_names]\n",
    "visits = [model_host_sn.models[m].target.header.visit for m in sn_model_names]\n",
    "mjds = [model_host_sn.models[m].target.header.mjd for m in sn_model_names]\n",
    "sim_zptmag = [model_host_sn.models[m].target.header.sim_zptmag for m in sn_model_names]\n",
    "\n",
    "zp = np.array(\n",
    "    [\n",
    "        model_host_sn.models[m].target.zeropoint.detach().cpu().numpy()\n",
    "        for m in sn_model_names\n",
    "    ]\n",
    ")\n",
    "inst_mag = np.array(\n",
    "    [\n",
    "        -2.5 * model_host_sn.models[m].parameters[\"flux\"].value.detach().cpu().numpy()\n",
    "        for m in sn_model_names\n",
    "    ]\n",
    ")\n",
    "mag_err = np.array(\n",
    "    [\n",
    "        2.5\n",
    "        * model_host_sn.models[m].parameters[\"flux\"].uncertainty.detach().cpu().numpy()\n",
    "        for m in sn_model_names\n",
    "    ]\n",
    ")"
   ]
  },
  {
   "cell_type": "code",
   "execution_count": null,
   "metadata": {},
   "outputs": [],
   "source": [
    "lightcurve_obs = Table(\n",
    "    {\n",
    "        \"filename\": filenames,\n",
    "        \"band\": bands,\n",
    "        \"visit\": visits,\n",
    "        \"mjd\": mjds,\n",
    "        \"zp\": zp,\n",
    "        \"sim_zptmag\": sim_zptmag,\n",
    "        \"inst_mag\": inst_mag,\n",
    "        \"mag_err\": mag_err,\n",
    "    }\n",
    ")"
   ]
  },
  {
   "cell_type": "code",
   "execution_count": null,
   "metadata": {
    "scrolled": false
   },
   "outputs": [],
   "source": [
    "lightcurve_obs[\"mag\"] = lightcurve_obs[\"inst_mag\"] + lightcurve_obs[\"zp\"] \n",
    "lightcurve_obs[\"inst_flux\"] = 10 ** (-0.4 * lightcurve_obs[\"inst_mag\"])\n",
    "lightcurve_obs[\"inst_flux_err\"] = (np.log(10) / 2.5) * (lightcurve_obs[\"inst_flux\"] * mag_err)\n",
    "\n",
    "lightcurve_obs[\"snr\"] = lightcurve_obs[\"inst_flux\"] / lightcurve_obs[\"inst_flux_err\"]"
   ]
  },
  {
   "cell_type": "code",
   "execution_count": null,
   "metadata": {},
   "outputs": [],
   "source": [
    "zp_AB_to_nJy = 8.90 + 2.5 * 9\n",
    "\n",
    "lightcurve_obs[\"flux\"] = 10 ** (-0.4 * (lightcurve_obs[\"mag\"] - zp_AB_to_nJy))\n",
    "lightcurve_obs[\"flux_err\"] = (lightcurve_obs[\"flux\"] / lightcurve_obs[\"inst_flux\"]) * lightcurve_obs[\n",
    "    \"inst_flux_err\"\n",
    "]"
   ]
  },
  {
   "cell_type": "code",
   "execution_count": null,
   "metadata": {},
   "outputs": [],
   "source": [
    "lightcurve_obs[\"mjd\"].info.format = \"<10.3f\"\n",
    "lightcurve_obs[\"zp\"].info.format = \">7.4f\"\n",
    "lightcurve_obs[\"flux\"].info.format=\".3e\"\n",
    "lightcurve_obs[\"flux_err\"].info.format=\".3e\"\n",
    "lightcurve_obs[\"snr\"].info.format=\"0.2f\"\n",
    "lightcurve_obs[\"mag\"].info.format = \">7.4f\"\n",
    "lightcurve_obs[\"mag_err\"].info.format = \">7.4f\""
   ]
  },
  {
   "cell_type": "code",
   "execution_count": null,
   "metadata": {},
   "outputs": [],
   "source": [
    "lightcurve_obs"
   ]
  },
  {
   "cell_type": "code",
   "execution_count": null,
   "metadata": {
    "scrolled": false
   },
   "outputs": [],
   "source": [
    "lightcurve_truth"
   ]
  },
  {
   "cell_type": "code",
   "execution_count": null,
   "metadata": {
    "scrolled": false
   },
   "outputs": [],
   "source": [
    "from astropy.table import join\n",
    "\n",
    "lightcurve = join(\n",
    "    lightcurve_truth,\n",
    "    lightcurve_obs[\n",
    "        [\n",
    "            \"filename\",\n",
    "            \"visit\",\n",
    "            \"band\",\n",
    "            \"mjd\",\n",
    "            \"zp\",\n",
    "            \"sim_zptmag\",\n",
    "            \"inst_mag\",\n",
    "            \"mag_err\",\n",
    "            \"mag\",\n",
    "            \"inst_flux\",\n",
    "            \"inst_flux_err\",\n",
    "            \"snr\",\n",
    "            \"flux\",\n",
    "            \"flux_err\",\n",
    "        ]\n",
    "    ],\n",
    "    keys_left=[\"visit\"],\n",
    "    keys_right=[\"visit\"],\n",
    "    join_type=\"right\",\n",
    "    table_names=(\"truth\", \"obs\"),\n",
    ")\n",
    "# Need to add the ZPTMAG stored in the FITS image header to the 'mag' value in the truth file\n",
    "# to get the calibrated AB-system magnitude\n",
    "lightcurve[\"mag_truth\"] += lightcurve[\"sim_zptmag\"]"
   ]
  },
  {
   "cell_type": "code",
   "execution_count": null,
   "metadata": {
    "scrolled": false
   },
   "outputs": [],
   "source": [
    "lightcurve"
   ]
  },
  {
   "cell_type": "code",
   "execution_count": null,
   "metadata": {},
   "outputs": [],
   "source": [
    "lightcurve.write(f\"lightcurve_{transient_id}.csv\", overwrite=True)"
   ]
  },
  {
   "cell_type": "code",
   "execution_count": null,
   "metadata": {},
   "outputs": [],
   "source": [
    "color_for_band = {\n",
    "    \"u\": \"purple\",\n",
    "    \"g\": \"blue\",\n",
    "    \"r\": \"green\",\n",
    "    \"i\": \"red\",\n",
    "    \"z\": \"black\",\n",
    "    \"y\": \"yellow\",\n",
    "    \"Y\": \"blue\",\n",
    "    \"J\": \"green\",\n",
    "    \"H\": \"red\",\n",
    "    \"F\": \"black\",\n",
    "    \"Y106\": \"blue\",\n",
    "}\n",
    "color_for_band[\"H158\"] = color_for_band[\"H\"]"
   ]
  },
  {
   "cell_type": "code",
   "execution_count": null,
   "metadata": {},
   "outputs": [],
   "source": [
    "_, axes = plt.subplots(2, 1, height_ratios=[2, 1])\n",
    "\n",
    "ax = axes[0]\n",
    "\n",
    "snr_threshold = 1\n",
    "for b in np.unique(lightcurve_obs[\"band\"]):\n",
    "    (idx,) = np.where(\n",
    "        (lightcurve_obs[\"band\"] == b) & (lightcurve_obs[\"snr\"] > snr_threshold)\n",
    "    )\n",
    "    ax.errorbar(\n",
    "        lightcurve_obs[idx][\"mjd\"],\n",
    "        lightcurve_obs[idx][\"mag\"],\n",
    "        lightcurve_obs[idx][\"mag_err\"],\n",
    "        marker=\"o\",\n",
    "        markerfacecolor=color_for_band[b],\n",
    "        markeredgecolor=color_for_band[b],\n",
    "        ecolor=color_for_band[b],\n",
    "        linestyle=\"none\",\n",
    "        label=f\"fit {b}\",\n",
    "    )\n",
    "ax.set_ylabel(\"mag\")\n",
    "# ax.set_xlabel(\"MJD\")\n",
    "ax.set_title(f\"Proof of Concept: {DATASET} {transient_id}\")\n",
    "plt.ylim(23.5, 19)\n",
    "\n",
    "\n",
    "if lightcurve_truth is not None:\n",
    "    for b in np.unique(lightcurve[\"band\"]):\n",
    "        (idx,) = np.where(lightcurve[\"band\"] == b)\n",
    "        ax.scatter(\n",
    "            lightcurve[idx][\"mjd\"],\n",
    "            lightcurve[idx][\"mag_truth\"],\n",
    "            edgecolor=color_for_band[b],\n",
    "            facecolor=\"none\",\n",
    "            alpha=0.5,\n",
    "            marker=\"*\",\n",
    "            label=f\"model {b}\",\n",
    "        )\n",
    "\n",
    "ax.set_ylim(ax.get_ylim()[::-1]);\n",
    "\n",
    "ax.legend(ncols=2)\n",
    "\n",
    "###\n",
    "ax = axes[1]\n",
    "\n",
    "for b in np.unique(lightcurve[\"band\"]):\n",
    "    (idx,) = np.where(\n",
    "        (lightcurve[\"band\"] == b)\n",
    "    )\n",
    "    ax.errorbar(\n",
    "        lightcurve[idx][\"mjd\"],\n",
    "        lightcurve[idx][\"mag_obs\"] - lightcurve[idx][\"mag_truth\"],\n",
    "        lightcurve[idx][\"mag_err\"],\n",
    "        marker=\"o\",\n",
    "        markerfacecolor=color_for_band[b],\n",
    "        markeredgecolor=color_for_band[b],\n",
    "        ecolor=color_for_band[b],\n",
    "        linestyle=\"none\",\n",
    "        label=f\"{b}\",\n",
    "    )\n",
    "ax.set_ylabel(\"obs - truth [mag]\")\n",
    "ax.set_xlabel(\"MJD\")\n",
    "# plt.ylim(23.5, 17)\n",
    "ax.axhline(0, color=\"gray\", ls=\"--\")\n",
    "ax.set_ylim(1, -1)\n",
    "ax.set_xlim(axes[0].get_xlim())\n",
    "\n",
    "plt.savefig(f\"lightcurve_{transient_id}.png\")"
   ]
  },
  {
   "cell_type": "code",
   "execution_count": null,
   "metadata": {
    "scrolled": false
   },
   "outputs": [],
   "source": [
    "plot_target_model(\n",
    "    model_host_sn,\n",
    "    window=windows,\n",
    "    titles=image_file_basenames,\n",
    "    plot_filename=f\"transient_{DATASET}_{transient_id}_model.png\",\n",
    ")"
   ]
  },
  {
   "cell_type": "code",
   "execution_count": null,
   "metadata": {},
   "outputs": [],
   "source": []
  }
 ],
 "metadata": {
  "kernelspec": {
   "display_name": "Python 3 (ipykernel)",
   "language": "python",
   "name": "python3"
  },
  "language_info": {
   "codemirror_mode": {
    "name": "ipython",
    "version": 3
   },
   "file_extension": ".py",
   "mimetype": "text/x-python",
   "name": "python",
   "nbconvert_exporter": "python",
   "pygments_lexer": "ipython3",
   "version": "3.11.6"
  }
 },
 "nbformat": 4,
 "nbformat_minor": 4
}
